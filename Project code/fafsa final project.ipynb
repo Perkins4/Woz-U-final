{
 "cells": [
  {
   "cell_type": "markdown",
   "metadata": {},
   "source": [
    "# Import data and packages"
   ]
  },
  {
   "cell_type": "code",
   "execution_count": 1,
   "metadata": {},
   "outputs": [],
   "source": [
    "import pandas as pd\n",
    "import seaborn as sns\n",
    "import numpy as np\n",
    "import matplotlib.pyplot as plt\n",
    "import plotly.graph_objects as g\n",
    "from scipy.stats import norm\n",
    "from scipy import stats\n",
    "from statsmodels.stats.multicomp import pairwise_tukeyhsd\n",
    "from statsmodels.stats.multicomp import MultiComparison\n",
    "%matplotlib inline\n",
    "import  statsmodels.api as sm\n",
    "import statsmodels.stats.api as sms\n",
    "from scipy.stats import boxcox\n",
    "from pylab import *\n",
    "from sklearn.linear_model import LinearRegression\n",
    "from sklearn.model_selection import train_test_split\n",
    "from sklearn import metrics"
   ]
  },
  {
   "cell_type": "code",
   "execution_count": 3,
   "metadata": {},
   "outputs": [],
   "source": [
    "data = pd.read_csv('fafsa_by_locat_by_age.csv')\n",
    "\n",
    "summarydata = pd.read_csv('portfolio summary.csv')\n",
    "\n",
    "data2 = pd.read_csv('fafsa_by_locat_by_age2.csv')"
   ]
  },
  {
   "cell_type": "code",
   "execution_count": 3,
   "metadata": {},
   "outputs": [
    {
     "data": {
      "text/html": [
       "<div>\n",
       "<style scoped>\n",
       "    .dataframe tbody tr th:only-of-type {\n",
       "        vertical-align: middle;\n",
       "    }\n",
       "\n",
       "    .dataframe tbody tr th {\n",
       "        vertical-align: top;\n",
       "    }\n",
       "\n",
       "    .dataframe thead th {\n",
       "        text-align: right;\n",
       "    }\n",
       "</style>\n",
       "<table border=\"1\" class=\"dataframe\">\n",
       "  <thead>\n",
       "    <tr style=\"text-align: right;\">\n",
       "      <th></th>\n",
       "      <th>Unnamed: 0</th>\n",
       "      <th>Location</th>\n",
       "      <th>Balance in billions</th>\n",
       "      <th>Borrowers in thousands</th>\n",
       "      <th>State population</th>\n",
       "      <th>24 and younger</th>\n",
       "      <th>25 to34</th>\n",
       "      <th>35 to 49</th>\n",
       "      <th>50 to 61</th>\n",
       "      <th>62 and older</th>\n",
       "    </tr>\n",
       "  </thead>\n",
       "  <tbody>\n",
       "    <tr>\n",
       "      <th>0</th>\n",
       "      <td>1</td>\n",
       "      <td>Alabama</td>\n",
       "      <td>22.6</td>\n",
       "      <td>613.7</td>\n",
       "      <td>4903185</td>\n",
       "      <td>$1.74</td>\n",
       "      <td>$7.07</td>\n",
       "      <td>$9.31</td>\n",
       "      <td>$3.55</td>\n",
       "      <td>$0.96</td>\n",
       "    </tr>\n",
       "    <tr>\n",
       "      <th>1</th>\n",
       "      <td>2</td>\n",
       "      <td>Alaska</td>\n",
       "      <td>2.2</td>\n",
       "      <td>66.5</td>\n",
       "      <td>731545</td>\n",
       "      <td>$0.11</td>\n",
       "      <td>$0.74</td>\n",
       "      <td>$0.93</td>\n",
       "      <td>$0.36</td>\n",
       "      <td>$0.11</td>\n",
       "    </tr>\n",
       "    <tr>\n",
       "      <th>2</th>\n",
       "      <td>3</td>\n",
       "      <td>Arizona</td>\n",
       "      <td>30.0</td>\n",
       "      <td>856.0</td>\n",
       "      <td>7278717</td>\n",
       "      <td>$1.68</td>\n",
       "      <td>$9.41</td>\n",
       "      <td>$12.27</td>\n",
       "      <td>$5.05</td>\n",
       "      <td>$1.62</td>\n",
       "    </tr>\n",
       "    <tr>\n",
       "      <th>3</th>\n",
       "      <td>4</td>\n",
       "      <td>Arkansas</td>\n",
       "      <td>12.5</td>\n",
       "      <td>377.5</td>\n",
       "      <td>3017804</td>\n",
       "      <td>$0.97</td>\n",
       "      <td>$4.03</td>\n",
       "      <td>$5.22</td>\n",
       "      <td>$1.82</td>\n",
       "      <td>$0.49</td>\n",
       "    </tr>\n",
       "    <tr>\n",
       "      <th>4</th>\n",
       "      <td>5</td>\n",
       "      <td>California</td>\n",
       "      <td>140.1</td>\n",
       "      <td>3854.1</td>\n",
       "      <td>39512223</td>\n",
       "      <td>$8.96</td>\n",
       "      <td>$50.09</td>\n",
       "      <td>$50.87</td>\n",
       "      <td>$22.28</td>\n",
       "      <td>$7.89</td>\n",
       "    </tr>\n",
       "  </tbody>\n",
       "</table>\n",
       "</div>"
      ],
      "text/plain": [
       "   Unnamed: 0    Location  Balance in billions  Borrowers in thousands  \\\n",
       "0           1     Alabama                 22.6                   613.7   \n",
       "1           2      Alaska                  2.2                    66.5   \n",
       "2           3     Arizona                 30.0                   856.0   \n",
       "3           4    Arkansas                 12.5                   377.5   \n",
       "4           5  California                140.1                  3854.1   \n",
       "\n",
       "   State population 24 and younger 25 to34 35 to 49 50 to 61 62 and older  \n",
       "0           4903185          $1.74   $7.07    $9.31    $3.55        $0.96  \n",
       "1            731545          $0.11   $0.74    $0.93    $0.36        $0.11  \n",
       "2           7278717          $1.68   $9.41   $12.27    $5.05        $1.62  \n",
       "3           3017804          $0.97   $4.03    $5.22    $1.82        $0.49  \n",
       "4          39512223          $8.96  $50.09   $50.87   $22.28        $7.89  "
      ]
     },
     "execution_count": 3,
     "metadata": {},
     "output_type": "execute_result"
    }
   ],
   "source": [
    "data.head()"
   ]
  },
  {
   "cell_type": "code",
   "execution_count": 4,
   "metadata": {},
   "outputs": [
    {
     "data": {
      "text/html": [
       "<div>\n",
       "<style scoped>\n",
       "    .dataframe tbody tr th:only-of-type {\n",
       "        vertical-align: middle;\n",
       "    }\n",
       "\n",
       "    .dataframe tbody tr th {\n",
       "        vertical-align: top;\n",
       "    }\n",
       "\n",
       "    .dataframe thead th {\n",
       "        text-align: right;\n",
       "    }\n",
       "</style>\n",
       "<table border=\"1\" class=\"dataframe\">\n",
       "  <thead>\n",
       "    <tr style=\"text-align: right;\">\n",
       "      <th></th>\n",
       "      <th>Unnamed: 0</th>\n",
       "      <th>Federal Fiscal Year2</th>\n",
       "      <th>Dollars Outstanding            (in billions)_1</th>\n",
       "      <th>Unduplicated Recipients    (in millions)</th>\n",
       "    </tr>\n",
       "  </thead>\n",
       "  <tbody>\n",
       "    <tr>\n",
       "      <th>0</th>\n",
       "      <td>1</td>\n",
       "      <td>2007</td>\n",
       "      <td>516.0</td>\n",
       "      <td>28.3</td>\n",
       "    </tr>\n",
       "    <tr>\n",
       "      <th>1</th>\n",
       "      <td>2</td>\n",
       "      <td>2008</td>\n",
       "      <td>577.0</td>\n",
       "      <td>29.9</td>\n",
       "    </tr>\n",
       "    <tr>\n",
       "      <th>2</th>\n",
       "      <td>3</td>\n",
       "      <td>2009</td>\n",
       "      <td>657.0</td>\n",
       "      <td>32.1</td>\n",
       "    </tr>\n",
       "    <tr>\n",
       "      <th>3</th>\n",
       "      <td>4</td>\n",
       "      <td>2010</td>\n",
       "      <td>749.8</td>\n",
       "      <td>34.3</td>\n",
       "    </tr>\n",
       "    <tr>\n",
       "      <th>4</th>\n",
       "      <td>5</td>\n",
       "      <td>2011</td>\n",
       "      <td>848.2</td>\n",
       "      <td>36.5</td>\n",
       "    </tr>\n",
       "    <tr>\n",
       "      <th>5</th>\n",
       "      <td>6</td>\n",
       "      <td>2012</td>\n",
       "      <td>948.2</td>\n",
       "      <td>38.3</td>\n",
       "    </tr>\n",
       "    <tr>\n",
       "      <th>6</th>\n",
       "      <td>7</td>\n",
       "      <td>2013</td>\n",
       "      <td>1040.2</td>\n",
       "      <td>39.6</td>\n",
       "    </tr>\n",
       "    <tr>\n",
       "      <th>7</th>\n",
       "      <td>8</td>\n",
       "      <td>2014</td>\n",
       "      <td>1129.8</td>\n",
       "      <td>40.7</td>\n",
       "    </tr>\n",
       "    <tr>\n",
       "      <th>8</th>\n",
       "      <td>9</td>\n",
       "      <td>2015</td>\n",
       "      <td>1212.4</td>\n",
       "      <td>41.6</td>\n",
       "    </tr>\n",
       "    <tr>\n",
       "      <th>9</th>\n",
       "      <td>10</td>\n",
       "      <td>2016</td>\n",
       "      <td>1292.2</td>\n",
       "      <td>42.3</td>\n",
       "    </tr>\n",
       "    <tr>\n",
       "      <th>10</th>\n",
       "      <td>11</td>\n",
       "      <td>2017</td>\n",
       "      <td>1366.9</td>\n",
       "      <td>42.6</td>\n",
       "    </tr>\n",
       "    <tr>\n",
       "      <th>11</th>\n",
       "      <td>12</td>\n",
       "      <td>2018</td>\n",
       "      <td>1439.2</td>\n",
       "      <td>42.9</td>\n",
       "    </tr>\n",
       "    <tr>\n",
       "      <th>12</th>\n",
       "      <td>13</td>\n",
       "      <td>2019</td>\n",
       "      <td>1510.3</td>\n",
       "      <td>42.9</td>\n",
       "    </tr>\n",
       "    <tr>\n",
       "      <th>13</th>\n",
       "      <td>14</td>\n",
       "      <td>2020</td>\n",
       "      <td>1566.3</td>\n",
       "      <td>42.9</td>\n",
       "    </tr>\n",
       "  </tbody>\n",
       "</table>\n",
       "</div>"
      ],
      "text/plain": [
       "    Unnamed: 0  Federal Fiscal Year2  \\\n",
       "0            1                  2007   \n",
       "1            2                  2008   \n",
       "2            3                  2009   \n",
       "3            4                  2010   \n",
       "4            5                  2011   \n",
       "5            6                  2012   \n",
       "6            7                  2013   \n",
       "7            8                  2014   \n",
       "8            9                  2015   \n",
       "9           10                  2016   \n",
       "10          11                  2017   \n",
       "11          12                  2018   \n",
       "12          13                  2019   \n",
       "13          14                  2020   \n",
       "\n",
       "    Dollars Outstanding            (in billions)_1  \\\n",
       "0                                            516.0   \n",
       "1                                            577.0   \n",
       "2                                            657.0   \n",
       "3                                            749.8   \n",
       "4                                            848.2   \n",
       "5                                            948.2   \n",
       "6                                           1040.2   \n",
       "7                                           1129.8   \n",
       "8                                           1212.4   \n",
       "9                                           1292.2   \n",
       "10                                          1366.9   \n",
       "11                                          1439.2   \n",
       "12                                          1510.3   \n",
       "13                                          1566.3   \n",
       "\n",
       "    Unduplicated Recipients    (in millions)  \n",
       "0                                       28.3  \n",
       "1                                       29.9  \n",
       "2                                       32.1  \n",
       "3                                       34.3  \n",
       "4                                       36.5  \n",
       "5                                       38.3  \n",
       "6                                       39.6  \n",
       "7                                       40.7  \n",
       "8                                       41.6  \n",
       "9                                       42.3  \n",
       "10                                      42.6  \n",
       "11                                      42.9  \n",
       "12                                      42.9  \n",
       "13                                      42.9  "
      ]
     },
     "execution_count": 4,
     "metadata": {},
     "output_type": "execute_result"
    }
   ],
   "source": [
    "summarydata.head(50)"
   ]
  },
  {
   "cell_type": "code",
   "execution_count": 33,
   "metadata": {},
   "outputs": [
    {
     "name": "stdout",
     "output_type": "stream",
     "text": [
      "<class 'pandas.core.frame.DataFrame'>\n",
      "RangeIndex: 14 entries, 0 to 13\n",
      "Data columns (total 4 columns):\n",
      " #   Column                                    Non-Null Count  Dtype  \n",
      "---  ------                                    --------------  -----  \n",
      " 0   Unnamed: 0                                14 non-null     int64  \n",
      " 1   Federal Fiscal Year2                      14 non-null     int64  \n",
      " 2   Dollars outstanding(in billions)          14 non-null     float64\n",
      " 3   Unduplicated Recipients    (in millions)  14 non-null     float64\n",
      "dtypes: float64(2), int64(2)\n",
      "memory usage: 576.0 bytes\n"
     ]
    }
   ],
   "source": [
    "summarydata.info()\n",
    "summarydata.rename(columns={'Dollars Outstanding            (in billions)_1': 'Dollars outstanding(in billions)',}, inplace=True)"
   ]
  },
  {
   "cell_type": "markdown",
   "metadata": {},
   "source": [
    "### Changed columns to have type. float for statistical analysis"
   ]
  },
  {
   "cell_type": "code",
   "execution_count": 21,
   "metadata": {},
   "outputs": [
    {
     "name": "stdout",
     "output_type": "stream",
     "text": [
      "<class 'pandas.core.frame.DataFrame'>\n",
      "RangeIndex: 51 entries, 0 to 50\n",
      "Data columns (total 9 columns):\n",
      " #   Column                  Non-Null Count  Dtype  \n",
      "---  ------                  --------------  -----  \n",
      " 0   Location                51 non-null     object \n",
      " 1   Balance in billions     51 non-null     float64\n",
      " 2   Borrowers in thousands  51 non-null     float64\n",
      " 3   State population        51 non-null     int64  \n",
      " 4   24 and younger          51 non-null     object \n",
      " 5   25 to34                 51 non-null     object \n",
      " 6   35 to 49                51 non-null     object \n",
      " 7   50 to 61                51 non-null     object \n",
      " 8   62 and older            51 non-null     object \n",
      "dtypes: float64(2), int64(1), object(6)\n",
      "memory usage: 3.7+ KB\n",
      "<class 'pandas.core.frame.DataFrame'>\n",
      "RangeIndex: 51 entries, 0 to 50\n",
      "Data columns (total 12 columns):\n",
      " #   Column                   Non-Null Count  Dtype  \n",
      "---  ------                   --------------  -----  \n",
      " 0   Unnamed: 0               51 non-null     int64  \n",
      " 1   Location                 51 non-null     object \n",
      " 2   Balance in billions      51 non-null     float64\n",
      " 3   Borrowers in thousands   51 non-null     float64\n",
      " 4   State population         51 non-null     int64  \n",
      " 5   Twentyfour.and.younger   51 non-null     float64\n",
      " 6   25 to34                  51 non-null     float64\n",
      " 7   35 to 49                 51 non-null     float64\n",
      " 8   50 to 61                 51 non-null     float64\n",
      " 9   62 and older             51 non-null     float64\n",
      " 10  Balance.in.billionslog   51 non-null     float64\n",
      " 11  Percentage.of.Borrowers  51 non-null     float64\n",
      "dtypes: float64(9), int64(2), object(1)\n",
      "memory usage: 4.9+ KB\n"
     ]
    }
   ],
   "source": [
    "data.info()\n",
    "data2.info()"
   ]
  },
  {
   "cell_type": "markdown",
   "metadata": {},
   "source": [
    "## cleaning data/coverting object type to float"
   ]
  },
  {
   "cell_type": "code",
   "execution_count": 62,
   "metadata": {},
   "outputs": [],
   "source": [
    "data['24 and younger'] = data['24 and younger'].str.replace('$', '').str.replace(',','')"
   ]
  },
  {
   "cell_type": "code",
   "execution_count": 63,
   "metadata": {},
   "outputs": [],
   "source": [
    "data['24 and younger'] = pd.to_numeric(data['24 and younger'])"
   ]
  },
  {
   "cell_type": "code",
   "execution_count": 66,
   "metadata": {},
   "outputs": [],
   "source": [
    "data['25 to34'] = data['25 to34'].str.replace('$', '').str.replace(',','')"
   ]
  },
  {
   "cell_type": "code",
   "execution_count": 67,
   "metadata": {},
   "outputs": [],
   "source": [
    "data['25 to34'] = pd.to_numeric(data['25 to34'])"
   ]
  },
  {
   "cell_type": "code",
   "execution_count": 68,
   "metadata": {},
   "outputs": [],
   "source": [
    "data['35 to 49'] = data['35 to 49'].str.replace('$', '').str.replace(',','')"
   ]
  },
  {
   "cell_type": "code",
   "execution_count": 69,
   "metadata": {},
   "outputs": [],
   "source": [
    "data['35 to 49'] = pd.to_numeric(data['35 to 49'])"
   ]
  },
  {
   "cell_type": "code",
   "execution_count": 70,
   "metadata": {},
   "outputs": [],
   "source": [
    "data['50 to 61'] = data['50 to 61'].str.replace('$', '').str.replace(',','')"
   ]
  },
  {
   "cell_type": "code",
   "execution_count": 71,
   "metadata": {},
   "outputs": [],
   "source": [
    "data['50 to 61'] = pd.to_numeric(data['50 to 61'])"
   ]
  },
  {
   "cell_type": "code",
   "execution_count": 72,
   "metadata": {},
   "outputs": [],
   "source": [
    "data['62 and older'] = data['62 and older'].str.replace('$', '').str.replace(',','')"
   ]
  },
  {
   "cell_type": "code",
   "execution_count": 96,
   "metadata": {},
   "outputs": [],
   "source": [
    "data['62 and older'] = pd.to_numeric(data['62 and older'])\n",
    "data['State population'] = data['State population'].astype(float)"
   ]
  },
  {
   "cell_type": "code",
   "execution_count": 97,
   "metadata": {},
   "outputs": [
    {
     "name": "stdout",
     "output_type": "stream",
     "text": [
      "<class 'pandas.core.frame.DataFrame'>\n",
      "RangeIndex: 51 entries, 0 to 50\n",
      "Data columns (total 10 columns):\n",
      " #   Column                  Non-Null Count  Dtype  \n",
      "---  ------                  --------------  -----  \n",
      " 0   Unnamed: 0              51 non-null     int64  \n",
      " 1   Location                51 non-null     object \n",
      " 2   Balance in billions     51 non-null     float64\n",
      " 3   Borrowers in thousands  51 non-null     float64\n",
      " 4   State population        51 non-null     float64\n",
      " 5   24 and younger          51 non-null     float64\n",
      " 6   25 to34                 51 non-null     float64\n",
      " 7   35 to 49                51 non-null     float64\n",
      " 8   50 to 61                51 non-null     float64\n",
      " 9   62 and older            51 non-null     float64\n",
      "dtypes: float64(8), int64(1), object(1)\n",
      "memory usage: 4.1+ KB\n"
     ]
    }
   ],
   "source": [
    "data.info()"
   ]
  },
  {
   "cell_type": "markdown",
   "metadata": {},
   "source": [
    "### check for na values"
   ]
  },
  {
   "cell_type": "code",
   "execution_count": 76,
   "metadata": {},
   "outputs": [
    {
     "data": {
      "text/plain": [
       "Unnamed: 0                0\n",
       "Location                  0\n",
       "Balance in billions       0\n",
       "Borrowers in thousands    0\n",
       "State population          0\n",
       "24 and younger            0\n",
       "25 to34                   0\n",
       "35 to 49                  0\n",
       "50 to 61                  0\n",
       "62 and older              0\n",
       "dtype: int64"
      ]
     },
     "execution_count": 76,
     "metadata": {},
     "output_type": "execute_result"
    }
   ],
   "source": [
    "data.isna().sum()"
   ]
  },
  {
   "cell_type": "code",
   "execution_count": 2,
   "metadata": {},
   "outputs": [
    {
     "ename": "NameError",
     "evalue": "name 'data2' is not defined",
     "output_type": "error",
     "traceback": [
      "\u001b[0;31m---------------------------------------------------------------------------\u001b[0m",
      "\u001b[0;31mNameError\u001b[0m                                 Traceback (most recent call last)",
      "\u001b[0;32m<ipython-input-2-6b3336b47525>\u001b[0m in \u001b[0;36m<module>\u001b[0;34m\u001b[0m\n\u001b[0;32m----> 1\u001b[0;31m \u001b[0mdata2\u001b[0m \u001b[0;34m=\u001b[0m \u001b[0mdata2\u001b[0m\u001b[0;34m.\u001b[0m\u001b[0mdrop\u001b[0m\u001b[0;34m(\u001b[0m\u001b[0;34m[\u001b[0m\u001b[0;34m'Balance.in.billionsSQ'\u001b[0m\u001b[0;34m,\u001b[0m\u001b[0;34m'Balance.in.billionsSQRT'\u001b[0m\u001b[0;34m,\u001b[0m \u001b[0;34m'Unnamed: 0'\u001b[0m\u001b[0;34m]\u001b[0m\u001b[0;34m,\u001b[0m \u001b[0maxis\u001b[0m \u001b[0;34m=\u001b[0m \u001b[0;36m1\u001b[0m\u001b[0;34m)\u001b[0m\u001b[0;34m\u001b[0m\u001b[0;34m\u001b[0m\u001b[0m\n\u001b[0m",
      "\u001b[0;31mNameError\u001b[0m: name 'data2' is not defined"
     ]
    }
   ],
   "source": [
    "data2 = data2.drop(['Balance.in.billionsSQ','Balance.in.billionsSQRT', 'Unnamed: 0'], axis = 1)"
   ]
  },
  {
   "cell_type": "code",
   "execution_count": 10,
   "metadata": {},
   "outputs": [],
   "source": [
    "data = data.drop(['Unnamed: 0'], axis = 1)"
   ]
  },
  {
   "cell_type": "code",
   "execution_count": 9,
   "metadata": {},
   "outputs": [],
   "source": [
    "corrdata = data.drop(['Unnamed: 0', '24 and younger', '25 to34', '35 to 49', '50 to 61', '62 and older'], axis = 1)"
   ]
  },
  {
   "cell_type": "markdown",
   "metadata": {},
   "source": [
    "## data exploration analysis"
   ]
  },
  {
   "cell_type": "code",
   "execution_count": 11,
   "metadata": {},
   "outputs": [
    {
     "data": {
      "image/png": "[encoded data removed]",
      "text/plain": [
       "<Figure size 360x360 with 1 Axes>"
      ]
     },
     "metadata": {
      "needs_background": "light"
     },
     "output_type": "display_data"
    }
   ],
   "source": [
    "regionplot = sns.relplot(\n",
    "    data=data,\n",
    "    x=\"Balance in billions\", y=\"State population\",\n",
    "    palette='coolwarm'\n",
    ")"
   ]
  },
  {
   "cell_type": "code",
   "execution_count": 12,
   "metadata": {},
   "outputs": [
    {
     "data": {
      "text/html": [
       "<style  type=\"text/css\" >\n",
       "    #T_3449e8da_ce0d_11eb_a0f7_acde48001122row0_col0 {\n",
       "            background-color:  #b40426;\n",
       "            color:  #f1f1f1;\n",
       "        }    #T_3449e8da_ce0d_11eb_a0f7_acde48001122row0_col1 {\n",
       "            background-color:  #f08a6c;\n",
       "            color:  #000000;\n",
       "        }    #T_3449e8da_ce0d_11eb_a0f7_acde48001122row0_col2 {\n",
       "            background-color:  #3b4cc0;\n",
       "            color:  #f1f1f1;\n",
       "        }    #T_3449e8da_ce0d_11eb_a0f7_acde48001122row1_col0 {\n",
       "            background-color:  #f6a586;\n",
       "            color:  #000000;\n",
       "        }    #T_3449e8da_ce0d_11eb_a0f7_acde48001122row1_col1 {\n",
       "            background-color:  #b40426;\n",
       "            color:  #f1f1f1;\n",
       "        }    #T_3449e8da_ce0d_11eb_a0f7_acde48001122row1_col2 {\n",
       "            background-color:  #3b4cc0;\n",
       "            color:  #f1f1f1;\n",
       "        }    #T_3449e8da_ce0d_11eb_a0f7_acde48001122row2_col0 {\n",
       "            background-color:  #3b4cc0;\n",
       "            color:  #f1f1f1;\n",
       "        }    #T_3449e8da_ce0d_11eb_a0f7_acde48001122row2_col1 {\n",
       "            background-color:  #85a8fc;\n",
       "            color:  #000000;\n",
       "        }    #T_3449e8da_ce0d_11eb_a0f7_acde48001122row2_col2 {\n",
       "            background-color:  #b40426;\n",
       "            color:  #f1f1f1;\n",
       "        }</style><table id=\"T_3449e8da_ce0d_11eb_a0f7_acde48001122\" ><thead>    <tr>        <th class=\"blank level0\" ></th>        <th class=\"col_heading level0 col0\" >Balance in billions</th>        <th class=\"col_heading level0 col1\" >Borrowers in thousands</th>        <th class=\"col_heading level0 col2\" >State population</th>    </tr></thead><tbody>\n",
       "                <tr>\n",
       "                        <th id=\"T_3449e8da_ce0d_11eb_a0f7_acde48001122level0_row0\" class=\"row_heading level0 row0\" >Balance in billions</th>\n",
       "                        <td id=\"T_3449e8da_ce0d_11eb_a0f7_acde48001122row0_col0\" class=\"data row0 col0\" >1.0</td>\n",
       "                        <td id=\"T_3449e8da_ce0d_11eb_a0f7_acde48001122row0_col1\" class=\"data row0 col1\" >1.0</td>\n",
       "                        <td id=\"T_3449e8da_ce0d_11eb_a0f7_acde48001122row0_col2\" class=\"data row0 col2\" >0.98</td>\n",
       "            </tr>\n",
       "            <tr>\n",
       "                        <th id=\"T_3449e8da_ce0d_11eb_a0f7_acde48001122level0_row1\" class=\"row_heading level0 row1\" >Borrowers in thousands</th>\n",
       "                        <td id=\"T_3449e8da_ce0d_11eb_a0f7_acde48001122row1_col0\" class=\"data row1 col0\" >1.0</td>\n",
       "                        <td id=\"T_3449e8da_ce0d_11eb_a0f7_acde48001122row1_col1\" class=\"data row1 col1\" >1.0</td>\n",
       "                        <td id=\"T_3449e8da_ce0d_11eb_a0f7_acde48001122row1_col2\" class=\"data row1 col2\" >0.99</td>\n",
       "            </tr>\n",
       "            <tr>\n",
       "                        <th id=\"T_3449e8da_ce0d_11eb_a0f7_acde48001122level0_row2\" class=\"row_heading level0 row2\" >State population</th>\n",
       "                        <td id=\"T_3449e8da_ce0d_11eb_a0f7_acde48001122row2_col0\" class=\"data row2 col0\" >0.98</td>\n",
       "                        <td id=\"T_3449e8da_ce0d_11eb_a0f7_acde48001122row2_col1\" class=\"data row2 col1\" >0.99</td>\n",
       "                        <td id=\"T_3449e8da_ce0d_11eb_a0f7_acde48001122row2_col2\" class=\"data row2 col2\" >1.0</td>\n",
       "            </tr>\n",
       "    </tbody></table>"
      ],
      "text/plain": [
       "<pandas.io.formats.style.Styler at 0x7f970c8dddc0>"
      ]
     },
     "execution_count": 12,
     "metadata": {},
     "output_type": "execute_result"
    }
   ],
   "source": [
    "corrdata.corr(method='pearson').style.format(\"{:.2}\").background_gradient(cmap=plt.get_cmap('coolwarm'), axis=1)"
   ]
  },
  {
   "cell_type": "code",
   "execution_count": 30,
   "metadata": {},
   "outputs": [
    {
     "data": {
      "text/html": [
       "<style  type=\"text/css\" >\n",
       "    #T_23c30b96_ce11_11eb_a0f7_acde48001122row0_col0 {\n",
       "            background-color:  #b40426;\n",
       "            color:  #f1f1f1;\n",
       "        }    #T_23c30b96_ce11_11eb_a0f7_acde48001122row0_col1 {\n",
       "            background-color:  #b40426;\n",
       "            color:  #f1f1f1;\n",
       "        }    #T_23c30b96_ce11_11eb_a0f7_acde48001122row0_col2 {\n",
       "            background-color:  #c0282f;\n",
       "            color:  #f1f1f1;\n",
       "        }    #T_23c30b96_ce11_11eb_a0f7_acde48001122row0_col3 {\n",
       "            background-color:  #3b4cc0;\n",
       "            color:  #f1f1f1;\n",
       "        }    #T_23c30b96_ce11_11eb_a0f7_acde48001122row1_col0 {\n",
       "            background-color:  #b40426;\n",
       "            color:  #f1f1f1;\n",
       "        }    #T_23c30b96_ce11_11eb_a0f7_acde48001122row1_col1 {\n",
       "            background-color:  #b40426;\n",
       "            color:  #f1f1f1;\n",
       "        }    #T_23c30b96_ce11_11eb_a0f7_acde48001122row1_col2 {\n",
       "            background-color:  #c0282f;\n",
       "            color:  #f1f1f1;\n",
       "        }    #T_23c30b96_ce11_11eb_a0f7_acde48001122row1_col3 {\n",
       "            background-color:  #3b4cc0;\n",
       "            color:  #f1f1f1;\n",
       "        }    #T_23c30b96_ce11_11eb_a0f7_acde48001122row2_col0 {\n",
       "            background-color:  #c32e31;\n",
       "            color:  #f1f1f1;\n",
       "        }    #T_23c30b96_ce11_11eb_a0f7_acde48001122row2_col1 {\n",
       "            background-color:  #c32e31;\n",
       "            color:  #f1f1f1;\n",
       "        }    #T_23c30b96_ce11_11eb_a0f7_acde48001122row2_col2 {\n",
       "            background-color:  #b40426;\n",
       "            color:  #f1f1f1;\n",
       "        }    #T_23c30b96_ce11_11eb_a0f7_acde48001122row2_col3 {\n",
       "            background-color:  #3b4cc0;\n",
       "            color:  #f1f1f1;\n",
       "        }    #T_23c30b96_ce11_11eb_a0f7_acde48001122row3_col0 {\n",
       "            background-color:  #3b4cc0;\n",
       "            color:  #f1f1f1;\n",
       "        }    #T_23c30b96_ce11_11eb_a0f7_acde48001122row3_col1 {\n",
       "            background-color:  #3b4cc0;\n",
       "            color:  #f1f1f1;\n",
       "        }    #T_23c30b96_ce11_11eb_a0f7_acde48001122row3_col2 {\n",
       "            background-color:  #8fb1fe;\n",
       "            color:  #000000;\n",
       "        }    #T_23c30b96_ce11_11eb_a0f7_acde48001122row3_col3 {\n",
       "            background-color:  #b40426;\n",
       "            color:  #f1f1f1;\n",
       "        }</style><table id=\"T_23c30b96_ce11_11eb_a0f7_acde48001122\" ><thead>    <tr>        <th class=\"blank level0\" ></th>        <th class=\"col_heading level0 col0\" >Unnamed: 0</th>        <th class=\"col_heading level0 col1\" >Federal Fiscal Year2</th>        <th class=\"col_heading level0 col2\" >Dollars outstanding(in billions)</th>        <th class=\"col_heading level0 col3\" >Unduplicated Recipients    (in millions)</th>    </tr></thead><tbody>\n",
       "                <tr>\n",
       "                        <th id=\"T_23c30b96_ce11_11eb_a0f7_acde48001122level0_row0\" class=\"row_heading level0 row0\" >Unnamed: 0</th>\n",
       "                        <td id=\"T_23c30b96_ce11_11eb_a0f7_acde48001122row0_col0\" class=\"data row0 col0\" >1.0</td>\n",
       "                        <td id=\"T_23c30b96_ce11_11eb_a0f7_acde48001122row0_col1\" class=\"data row0 col1\" >1.0</td>\n",
       "                        <td id=\"T_23c30b96_ce11_11eb_a0f7_acde48001122row0_col2\" class=\"data row0 col2\" >1.0</td>\n",
       "                        <td id=\"T_23c30b96_ce11_11eb_a0f7_acde48001122row0_col3\" class=\"data row0 col3\" >0.94</td>\n",
       "            </tr>\n",
       "            <tr>\n",
       "                        <th id=\"T_23c30b96_ce11_11eb_a0f7_acde48001122level0_row1\" class=\"row_heading level0 row1\" >Federal Fiscal Year2</th>\n",
       "                        <td id=\"T_23c30b96_ce11_11eb_a0f7_acde48001122row1_col0\" class=\"data row1 col0\" >1.0</td>\n",
       "                        <td id=\"T_23c30b96_ce11_11eb_a0f7_acde48001122row1_col1\" class=\"data row1 col1\" >1.0</td>\n",
       "                        <td id=\"T_23c30b96_ce11_11eb_a0f7_acde48001122row1_col2\" class=\"data row1 col2\" >1.0</td>\n",
       "                        <td id=\"T_23c30b96_ce11_11eb_a0f7_acde48001122row1_col3\" class=\"data row1 col3\" >0.94</td>\n",
       "            </tr>\n",
       "            <tr>\n",
       "                        <th id=\"T_23c30b96_ce11_11eb_a0f7_acde48001122level0_row2\" class=\"row_heading level0 row2\" >Dollars outstanding(in billions)</th>\n",
       "                        <td id=\"T_23c30b96_ce11_11eb_a0f7_acde48001122row2_col0\" class=\"data row2 col0\" >1.0</td>\n",
       "                        <td id=\"T_23c30b96_ce11_11eb_a0f7_acde48001122row2_col1\" class=\"data row2 col1\" >1.0</td>\n",
       "                        <td id=\"T_23c30b96_ce11_11eb_a0f7_acde48001122row2_col2\" class=\"data row2 col2\" >1.0</td>\n",
       "                        <td id=\"T_23c30b96_ce11_11eb_a0f7_acde48001122row2_col3\" class=\"data row2 col3\" >0.96</td>\n",
       "            </tr>\n",
       "            <tr>\n",
       "                        <th id=\"T_23c30b96_ce11_11eb_a0f7_acde48001122level0_row3\" class=\"row_heading level0 row3\" >Unduplicated Recipients    (in millions)</th>\n",
       "                        <td id=\"T_23c30b96_ce11_11eb_a0f7_acde48001122row3_col0\" class=\"data row3 col0\" >0.94</td>\n",
       "                        <td id=\"T_23c30b96_ce11_11eb_a0f7_acde48001122row3_col1\" class=\"data row3 col1\" >0.94</td>\n",
       "                        <td id=\"T_23c30b96_ce11_11eb_a0f7_acde48001122row3_col2\" class=\"data row3 col2\" >0.96</td>\n",
       "                        <td id=\"T_23c30b96_ce11_11eb_a0f7_acde48001122row3_col3\" class=\"data row3 col3\" >1.0</td>\n",
       "            </tr>\n",
       "    </tbody></table>"
      ],
      "text/plain": [
       "<pandas.io.formats.style.Styler at 0x7f970c72cbe0>"
      ]
     },
     "execution_count": 30,
     "metadata": {},
     "output_type": "execute_result"
    }
   ],
   "source": [
    "summarydata.corr(method='pearson').style.format(\"{:.2}\").background_gradient(cmap=plt.get_cmap('coolwarm'), axis=1)"
   ]
  },
  {
   "cell_type": "code",
   "execution_count": 29,
   "metadata": {},
   "outputs": [
    {
     "data": {
      "text/html": [
       "<style  type=\"text/css\" >\n",
       "    #T_48746f44_ce10_11eb_a0f7_acde48001122row0_col0 {\n",
       "            background-color:  #b40426;\n",
       "            color:  #f1f1f1;\n",
       "        }    #T_48746f44_ce10_11eb_a0f7_acde48001122row0_col1 {\n",
       "            background-color:  #485fd1;\n",
       "            color:  #f1f1f1;\n",
       "        }    #T_48746f44_ce10_11eb_a0f7_acde48001122row0_col2 {\n",
       "            background-color:  #4f69d9;\n",
       "            color:  #000000;\n",
       "        }    #T_48746f44_ce10_11eb_a0f7_acde48001122row0_col3 {\n",
       "            background-color:  #4a63d3;\n",
       "            color:  #f1f1f1;\n",
       "        }    #T_48746f44_ce10_11eb_a0f7_acde48001122row0_col4 {\n",
       "            background-color:  #5d7ce6;\n",
       "            color:  #000000;\n",
       "        }    #T_48746f44_ce10_11eb_a0f7_acde48001122row0_col5 {\n",
       "            background-color:  #4a63d3;\n",
       "            color:  #f1f1f1;\n",
       "        }    #T_48746f44_ce10_11eb_a0f7_acde48001122row0_col6 {\n",
       "            background-color:  #455cce;\n",
       "            color:  #f1f1f1;\n",
       "        }    #T_48746f44_ce10_11eb_a0f7_acde48001122row0_col7 {\n",
       "            background-color:  #455cce;\n",
       "            color:  #f1f1f1;\n",
       "        }    #T_48746f44_ce10_11eb_a0f7_acde48001122row0_col8 {\n",
       "            background-color:  #3e51c5;\n",
       "            color:  #f1f1f1;\n",
       "        }    #T_48746f44_ce10_11eb_a0f7_acde48001122row0_col9 {\n",
       "            background-color:  #4358cb;\n",
       "            color:  #f1f1f1;\n",
       "        }    #T_48746f44_ce10_11eb_a0f7_acde48001122row0_col10 {\n",
       "            background-color:  #3b4cc0;\n",
       "            color:  #f1f1f1;\n",
       "        }    #T_48746f44_ce10_11eb_a0f7_acde48001122row1_col0 {\n",
       "            background-color:  #3b4cc0;\n",
       "            color:  #f1f1f1;\n",
       "        }    #T_48746f44_ce10_11eb_a0f7_acde48001122row1_col1 {\n",
       "            background-color:  #b40426;\n",
       "            color:  #f1f1f1;\n",
       "        }    #T_48746f44_ce10_11eb_a0f7_acde48001122row1_col2 {\n",
       "            background-color:  #b40426;\n",
       "            color:  #f1f1f1;\n",
       "        }    #T_48746f44_ce10_11eb_a0f7_acde48001122row1_col3 {\n",
       "            background-color:  #ba162b;\n",
       "            color:  #f1f1f1;\n",
       "        }    #T_48746f44_ce10_11eb_a0f7_acde48001122row1_col4 {\n",
       "            background-color:  #c32e31;\n",
       "            color:  #f1f1f1;\n",
       "        }    #T_48746f44_ce10_11eb_a0f7_acde48001122row1_col5 {\n",
       "            background-color:  #b40426;\n",
       "            color:  #f1f1f1;\n",
       "        }    #T_48746f44_ce10_11eb_a0f7_acde48001122row1_col6 {\n",
       "            background-color:  #b50927;\n",
       "            color:  #f1f1f1;\n",
       "        }    #T_48746f44_ce10_11eb_a0f7_acde48001122row1_col7 {\n",
       "            background-color:  #b40426;\n",
       "            color:  #f1f1f1;\n",
       "        }    #T_48746f44_ce10_11eb_a0f7_acde48001122row1_col8 {\n",
       "            background-color:  #b70d28;\n",
       "            color:  #f1f1f1;\n",
       "        }    #T_48746f44_ce10_11eb_a0f7_acde48001122row1_col9 {\n",
       "            background-color:  #e0654f;\n",
       "            color:  #000000;\n",
       "        }    #T_48746f44_ce10_11eb_a0f7_acde48001122row1_col10 {\n",
       "            background-color:  #5f7fe8;\n",
       "            color:  #000000;\n",
       "        }    #T_48746f44_ce10_11eb_a0f7_acde48001122row2_col0 {\n",
       "            background-color:  #3b4cc0;\n",
       "            color:  #f1f1f1;\n",
       "        }    #T_48746f44_ce10_11eb_a0f7_acde48001122row2_col1 {\n",
       "            background-color:  #b40426;\n",
       "            color:  #f1f1f1;\n",
       "        }    #T_48746f44_ce10_11eb_a0f7_acde48001122row2_col2 {\n",
       "            background-color:  #b40426;\n",
       "            color:  #f1f1f1;\n",
       "        }    #T_48746f44_ce10_11eb_a0f7_acde48001122row2_col3 {\n",
       "            background-color:  #b8122a;\n",
       "            color:  #f1f1f1;\n",
       "        }    #T_48746f44_ce10_11eb_a0f7_acde48001122row2_col4 {\n",
       "            background-color:  #c12b30;\n",
       "            color:  #f1f1f1;\n",
       "        }    #T_48746f44_ce10_11eb_a0f7_acde48001122row2_col5 {\n",
       "            background-color:  #b50927;\n",
       "            color:  #f1f1f1;\n",
       "        }    #T_48746f44_ce10_11eb_a0f7_acde48001122row2_col6 {\n",
       "            background-color:  #b70d28;\n",
       "            color:  #f1f1f1;\n",
       "        }    #T_48746f44_ce10_11eb_a0f7_acde48001122row2_col7 {\n",
       "            background-color:  #b70d28;\n",
       "            color:  #f1f1f1;\n",
       "        }    #T_48746f44_ce10_11eb_a0f7_acde48001122row2_col8 {\n",
       "            background-color:  #bb1b2c;\n",
       "            color:  #f1f1f1;\n",
       "        }    #T_48746f44_ce10_11eb_a0f7_acde48001122row2_col9 {\n",
       "            background-color:  #e36b54;\n",
       "            color:  #000000;\n",
       "        }    #T_48746f44_ce10_11eb_a0f7_acde48001122row2_col10 {\n",
       "            background-color:  #5673e0;\n",
       "            color:  #000000;\n",
       "        }    #T_48746f44_ce10_11eb_a0f7_acde48001122row3_col0 {\n",
       "            background-color:  #3b4cc0;\n",
       "            color:  #f1f1f1;\n",
       "        }    #T_48746f44_ce10_11eb_a0f7_acde48001122row3_col1 {\n",
       "            background-color:  #ba162b;\n",
       "            color:  #f1f1f1;\n",
       "        }    #T_48746f44_ce10_11eb_a0f7_acde48001122row3_col2 {\n",
       "            background-color:  #b8122a;\n",
       "            color:  #f1f1f1;\n",
       "        }    #T_48746f44_ce10_11eb_a0f7_acde48001122row3_col3 {\n",
       "            background-color:  #b40426;\n",
       "            color:  #f1f1f1;\n",
       "        }    #T_48746f44_ce10_11eb_a0f7_acde48001122row3_col4 {\n",
       "            background-color:  #cf453c;\n",
       "            color:  #f1f1f1;\n",
       "        }    #T_48746f44_ce10_11eb_a0f7_acde48001122row3_col5 {\n",
       "            background-color:  #ba162b;\n",
       "            color:  #f1f1f1;\n",
       "        }    #T_48746f44_ce10_11eb_a0f7_acde48001122row3_col6 {\n",
       "            background-color:  #bd1f2d;\n",
       "            color:  #f1f1f1;\n",
       "        }    #T_48746f44_ce10_11eb_a0f7_acde48001122row3_col7 {\n",
       "            background-color:  #bd1f2d;\n",
       "            color:  #f1f1f1;\n",
       "        }    #T_48746f44_ce10_11eb_a0f7_acde48001122row3_col8 {\n",
       "            background-color:  #bb1b2c;\n",
       "            color:  #f1f1f1;\n",
       "        }    #T_48746f44_ce10_11eb_a0f7_acde48001122row3_col9 {\n",
       "            background-color:  #ec8165;\n",
       "            color:  #000000;\n",
       "        }    #T_48746f44_ce10_11eb_a0f7_acde48001122row3_col10 {\n",
       "            background-color:  #3c4ec2;\n",
       "            color:  #f1f1f1;\n",
       "        }    #T_48746f44_ce10_11eb_a0f7_acde48001122row4_col0 {\n",
       "            background-color:  #3b4cc0;\n",
       "            color:  #f1f1f1;\n",
       "        }    #T_48746f44_ce10_11eb_a0f7_acde48001122row4_col1 {\n",
       "            background-color:  #c43032;\n",
       "            color:  #f1f1f1;\n",
       "        }    #T_48746f44_ce10_11eb_a0f7_acde48001122row4_col2 {\n",
       "            background-color:  #c32e31;\n",
       "            color:  #f1f1f1;\n",
       "        }    #T_48746f44_ce10_11eb_a0f7_acde48001122row4_col3 {\n",
       "            background-color:  #d0473d;\n",
       "            color:  #f1f1f1;\n",
       "        }    #T_48746f44_ce10_11eb_a0f7_acde48001122row4_col4 {\n",
       "            background-color:  #b40426;\n",
       "            color:  #f1f1f1;\n",
       "        }    #T_48746f44_ce10_11eb_a0f7_acde48001122row4_col5 {\n",
       "            background-color:  #c0282f;\n",
       "            color:  #f1f1f1;\n",
       "        }    #T_48746f44_ce10_11eb_a0f7_acde48001122row4_col6 {\n",
       "            background-color:  #d0473d;\n",
       "            color:  #f1f1f1;\n",
       "        }    #T_48746f44_ce10_11eb_a0f7_acde48001122row4_col7 {\n",
       "            background-color:  #c43032;\n",
       "            color:  #f1f1f1;\n",
       "        }    #T_48746f44_ce10_11eb_a0f7_acde48001122row4_col8 {\n",
       "            background-color:  #c83836;\n",
       "            color:  #f1f1f1;\n",
       "        }    #T_48746f44_ce10_11eb_a0f7_acde48001122row4_col9 {\n",
       "            background-color:  #e36b54;\n",
       "            color:  #000000;\n",
       "        }    #T_48746f44_ce10_11eb_a0f7_acde48001122row4_col10 {\n",
       "            background-color:  #6384eb;\n",
       "            color:  #000000;\n",
       "        }    #T_48746f44_ce10_11eb_a0f7_acde48001122row5_col0 {\n",
       "            background-color:  #3b4cc0;\n",
       "            color:  #f1f1f1;\n",
       "        }    #T_48746f44_ce10_11eb_a0f7_acde48001122row5_col1 {\n",
       "            background-color:  #b40426;\n",
       "            color:  #f1f1f1;\n",
       "        }    #T_48746f44_ce10_11eb_a0f7_acde48001122row5_col2 {\n",
       "            background-color:  #b50927;\n",
       "            color:  #f1f1f1;\n",
       "        }    #T_48746f44_ce10_11eb_a0f7_acde48001122row5_col3 {\n",
       "            background-color:  #ba162b;\n",
       "            color:  #f1f1f1;\n",
       "        }    #T_48746f44_ce10_11eb_a0f7_acde48001122row5_col4 {\n",
       "            background-color:  #c0282f;\n",
       "            color:  #f1f1f1;\n",
       "        }    #T_48746f44_ce10_11eb_a0f7_acde48001122row5_col5 {\n",
       "            background-color:  #b40426;\n",
       "            color:  #f1f1f1;\n",
       "        }    #T_48746f44_ce10_11eb_a0f7_acde48001122row5_col6 {\n",
       "            background-color:  #ba162b;\n",
       "            color:  #f1f1f1;\n",
       "        }    #T_48746f44_ce10_11eb_a0f7_acde48001122row5_col7 {\n",
       "            background-color:  #b50927;\n",
       "            color:  #f1f1f1;\n",
       "        }    #T_48746f44_ce10_11eb_a0f7_acde48001122row5_col8 {\n",
       "            background-color:  #b70d28;\n",
       "            color:  #f1f1f1;\n",
       "        }    #T_48746f44_ce10_11eb_a0f7_acde48001122row5_col9 {\n",
       "            background-color:  #e36b54;\n",
       "            color:  #000000;\n",
       "        }    #T_48746f44_ce10_11eb_a0f7_acde48001122row5_col10 {\n",
       "            background-color:  #5b7ae5;\n",
       "            color:  #000000;\n",
       "        }    #T_48746f44_ce10_11eb_a0f7_acde48001122row6_col0 {\n",
       "            background-color:  #3b4cc0;\n",
       "            color:  #f1f1f1;\n",
       "        }    #T_48746f44_ce10_11eb_a0f7_acde48001122row6_col1 {\n",
       "            background-color:  #b50927;\n",
       "            color:  #f1f1f1;\n",
       "        }    #T_48746f44_ce10_11eb_a0f7_acde48001122row6_col2 {\n",
       "            background-color:  #b70d28;\n",
       "            color:  #f1f1f1;\n",
       "        }    #T_48746f44_ce10_11eb_a0f7_acde48001122row6_col3 {\n",
       "            background-color:  #bb1b2c;\n",
       "            color:  #f1f1f1;\n",
       "        }    #T_48746f44_ce10_11eb_a0f7_acde48001122row6_col4 {\n",
       "            background-color:  #cf453c;\n",
       "            color:  #f1f1f1;\n",
       "        }    #T_48746f44_ce10_11eb_a0f7_acde48001122row6_col5 {\n",
       "            background-color:  #ba162b;\n",
       "            color:  #f1f1f1;\n",
       "        }    #T_48746f44_ce10_11eb_a0f7_acde48001122row6_col6 {\n",
       "            background-color:  #b40426;\n",
       "            color:  #f1f1f1;\n",
       "        }    #T_48746f44_ce10_11eb_a0f7_acde48001122row6_col7 {\n",
       "            background-color:  #b70d28;\n",
       "            color:  #f1f1f1;\n",
       "        }    #T_48746f44_ce10_11eb_a0f7_acde48001122row6_col8 {\n",
       "            background-color:  #bd1f2d;\n",
       "            color:  #f1f1f1;\n",
       "        }    #T_48746f44_ce10_11eb_a0f7_acde48001122row6_col9 {\n",
       "            background-color:  #e26952;\n",
       "            color:  #000000;\n",
       "        }    #T_48746f44_ce10_11eb_a0f7_acde48001122row6_col10 {\n",
       "            background-color:  #5f7fe8;\n",
       "            color:  #000000;\n",
       "        }    #T_48746f44_ce10_11eb_a0f7_acde48001122row7_col0 {\n",
       "            background-color:  #3b4cc0;\n",
       "            color:  #f1f1f1;\n",
       "        }    #T_48746f44_ce10_11eb_a0f7_acde48001122row7_col1 {\n",
       "            background-color:  #b40426;\n",
       "            color:  #f1f1f1;\n",
       "        }    #T_48746f44_ce10_11eb_a0f7_acde48001122row7_col2 {\n",
       "            background-color:  #b70d28;\n",
       "            color:  #f1f1f1;\n",
       "        }    #T_48746f44_ce10_11eb_a0f7_acde48001122row7_col3 {\n",
       "            background-color:  #bd1f2d;\n",
       "            color:  #f1f1f1;\n",
       "        }    #T_48746f44_ce10_11eb_a0f7_acde48001122row7_col4 {\n",
       "            background-color:  #c32e31;\n",
       "            color:  #f1f1f1;\n",
       "        }    #T_48746f44_ce10_11eb_a0f7_acde48001122row7_col5 {\n",
       "            background-color:  #b50927;\n",
       "            color:  #f1f1f1;\n",
       "        }    #T_48746f44_ce10_11eb_a0f7_acde48001122row7_col6 {\n",
       "            background-color:  #b70d28;\n",
       "            color:  #f1f1f1;\n",
       "        }    #T_48746f44_ce10_11eb_a0f7_acde48001122row7_col7 {\n",
       "            background-color:  #b40426;\n",
       "            color:  #f1f1f1;\n",
       "        }    #T_48746f44_ce10_11eb_a0f7_acde48001122row7_col8 {\n",
       "            background-color:  #b70d28;\n",
       "            color:  #f1f1f1;\n",
       "        }    #T_48746f44_ce10_11eb_a0f7_acde48001122row7_col9 {\n",
       "            background-color:  #e0654f;\n",
       "            color:  #000000;\n",
       "        }    #T_48746f44_ce10_11eb_a0f7_acde48001122row7_col10 {\n",
       "            background-color:  #6485ec;\n",
       "            color:  #000000;\n",
       "        }    #T_48746f44_ce10_11eb_a0f7_acde48001122row8_col0 {\n",
       "            background-color:  #3b4cc0;\n",
       "            color:  #f1f1f1;\n",
       "        }    #T_48746f44_ce10_11eb_a0f7_acde48001122row8_col1 {\n",
       "            background-color:  #b70d28;\n",
       "            color:  #f1f1f1;\n",
       "        }    #T_48746f44_ce10_11eb_a0f7_acde48001122row8_col2 {\n",
       "            background-color:  #ba162b;\n",
       "            color:  #f1f1f1;\n",
       "        }    #T_48746f44_ce10_11eb_a0f7_acde48001122row8_col3 {\n",
       "            background-color:  #bb1b2c;\n",
       "            color:  #f1f1f1;\n",
       "        }    #T_48746f44_ce10_11eb_a0f7_acde48001122row8_col4 {\n",
       "            background-color:  #c73635;\n",
       "            color:  #f1f1f1;\n",
       "        }    #T_48746f44_ce10_11eb_a0f7_acde48001122row8_col5 {\n",
       "            background-color:  #b70d28;\n",
       "            color:  #f1f1f1;\n",
       "        }    #T_48746f44_ce10_11eb_a0f7_acde48001122row8_col6 {\n",
       "            background-color:  #bd1f2d;\n",
       "            color:  #f1f1f1;\n",
       "        }    #T_48746f44_ce10_11eb_a0f7_acde48001122row8_col7 {\n",
       "            background-color:  #b70d28;\n",
       "            color:  #f1f1f1;\n",
       "        }    #T_48746f44_ce10_11eb_a0f7_acde48001122row8_col8 {\n",
       "            background-color:  #b40426;\n",
       "            color:  #f1f1f1;\n",
       "        }    #T_48746f44_ce10_11eb_a0f7_acde48001122row8_col9 {\n",
       "            background-color:  #e67259;\n",
       "            color:  #000000;\n",
       "        }    #T_48746f44_ce10_11eb_a0f7_acde48001122row8_col10 {\n",
       "            background-color:  #5d7ce6;\n",
       "            color:  #000000;\n",
       "        }    #T_48746f44_ce10_11eb_a0f7_acde48001122row9_col0 {\n",
       "            background-color:  #3b4cc0;\n",
       "            color:  #f1f1f1;\n",
       "        }    #T_48746f44_ce10_11eb_a0f7_acde48001122row9_col1 {\n",
       "            background-color:  #e0654f;\n",
       "            color:  #000000;\n",
       "        }    #T_48746f44_ce10_11eb_a0f7_acde48001122row9_col2 {\n",
       "            background-color:  #e16751;\n",
       "            color:  #000000;\n",
       "        }    #T_48746f44_ce10_11eb_a0f7_acde48001122row9_col3 {\n",
       "            background-color:  #ec7f63;\n",
       "            color:  #000000;\n",
       "        }    #T_48746f44_ce10_11eb_a0f7_acde48001122row9_col4 {\n",
       "            background-color:  #df634e;\n",
       "            color:  #000000;\n",
       "        }    #T_48746f44_ce10_11eb_a0f7_acde48001122row9_col5 {\n",
       "            background-color:  #e26952;\n",
       "            color:  #000000;\n",
       "        }    #T_48746f44_ce10_11eb_a0f7_acde48001122row9_col6 {\n",
       "            background-color:  #e26952;\n",
       "            color:  #000000;\n",
       "        }    #T_48746f44_ce10_11eb_a0f7_acde48001122row9_col7 {\n",
       "            background-color:  #df634e;\n",
       "            color:  #000000;\n",
       "        }    #T_48746f44_ce10_11eb_a0f7_acde48001122row9_col8 {\n",
       "            background-color:  #e67259;\n",
       "            color:  #000000;\n",
       "        }    #T_48746f44_ce10_11eb_a0f7_acde48001122row9_col9 {\n",
       "            background-color:  #b40426;\n",
       "            color:  #f1f1f1;\n",
       "        }    #T_48746f44_ce10_11eb_a0f7_acde48001122row9_col10 {\n",
       "            background-color:  #b2ccfb;\n",
       "            color:  #000000;\n",
       "        }    #T_48746f44_ce10_11eb_a0f7_acde48001122row10_col0 {\n",
       "            background-color:  #3b4cc0;\n",
       "            color:  #f1f1f1;\n",
       "        }    #T_48746f44_ce10_11eb_a0f7_acde48001122row10_col1 {\n",
       "            background-color:  #6c8ff1;\n",
       "            color:  #000000;\n",
       "        }    #T_48746f44_ce10_11eb_a0f7_acde48001122row10_col2 {\n",
       "            background-color:  #6a8bef;\n",
       "            color:  #000000;\n",
       "        }    #T_48746f44_ce10_11eb_a0f7_acde48001122row10_col3 {\n",
       "            background-color:  #4c66d6;\n",
       "            color:  #000000;\n",
       "        }    #T_48746f44_ce10_11eb_a0f7_acde48001122row10_col4 {\n",
       "            background-color:  #85a8fc;\n",
       "            color:  #000000;\n",
       "        }    #T_48746f44_ce10_11eb_a0f7_acde48001122row10_col5 {\n",
       "            background-color:  #6b8df0;\n",
       "            color:  #000000;\n",
       "        }    #T_48746f44_ce10_11eb_a0f7_acde48001122row10_col6 {\n",
       "            background-color:  #6a8bef;\n",
       "            color:  #000000;\n",
       "        }    #T_48746f44_ce10_11eb_a0f7_acde48001122row10_col7 {\n",
       "            background-color:  #6f92f3;\n",
       "            color:  #000000;\n",
       "        }    #T_48746f44_ce10_11eb_a0f7_acde48001122row10_col8 {\n",
       "            background-color:  #6180e9;\n",
       "            color:  #000000;\n",
       "        }    #T_48746f44_ce10_11eb_a0f7_acde48001122row10_col9 {\n",
       "            background-color:  #b9d0f9;\n",
       "            color:  #000000;\n",
       "        }    #T_48746f44_ce10_11eb_a0f7_acde48001122row10_col10 {\n",
       "            background-color:  #b40426;\n",
       "            color:  #f1f1f1;\n",
       "        }</style><table id=\"T_48746f44_ce10_11eb_a0f7_acde48001122\" ><thead>    <tr>        <th class=\"blank level0\" ></th>        <th class=\"col_heading level0 col0\" >Unnamed: 0</th>        <th class=\"col_heading level0 col1\" >Balance in billions</th>        <th class=\"col_heading level0 col2\" >Borrowers in thousands</th>        <th class=\"col_heading level0 col3\" >State population</th>        <th class=\"col_heading level0 col4\" >Twentyfour.and.younger</th>        <th class=\"col_heading level0 col5\" >25 to34</th>        <th class=\"col_heading level0 col6\" >35 to 49</th>        <th class=\"col_heading level0 col7\" >50 to 61</th>        <th class=\"col_heading level0 col8\" >62 and older</th>        <th class=\"col_heading level0 col9\" >Balance.in.billionslog</th>        <th class=\"col_heading level0 col10\" >Percentage.of.Borrowers</th>    </tr></thead><tbody>\n",
       "                <tr>\n",
       "                        <th id=\"T_48746f44_ce10_11eb_a0f7_acde48001122level0_row0\" class=\"row_heading level0 row0\" >Unnamed: 0</th>\n",
       "                        <td id=\"T_48746f44_ce10_11eb_a0f7_acde48001122row0_col0\" class=\"data row0 col0\" >1.0</td>\n",
       "                        <td id=\"T_48746f44_ce10_11eb_a0f7_acde48001122row0_col1\" class=\"data row0 col1\" >-0.076</td>\n",
       "                        <td id=\"T_48746f44_ce10_11eb_a0f7_acde48001122row0_col2\" class=\"data row0 col2\" >-0.053</td>\n",
       "                        <td id=\"T_48746f44_ce10_11eb_a0f7_acde48001122row0_col3\" class=\"data row0 col3\" >-0.07</td>\n",
       "                        <td id=\"T_48746f44_ce10_11eb_a0f7_acde48001122row0_col4\" class=\"data row0 col4\" >-0.0017</td>\n",
       "                        <td id=\"T_48746f44_ce10_11eb_a0f7_acde48001122row0_col5\" class=\"data row0 col5\" >-0.069</td>\n",
       "                        <td id=\"T_48746f44_ce10_11eb_a0f7_acde48001122row0_col6\" class=\"data row0 col6\" >-0.086</td>\n",
       "                        <td id=\"T_48746f44_ce10_11eb_a0f7_acde48001122row0_col7\" class=\"data row0 col7\" >-0.086</td>\n",
       "                        <td id=\"T_48746f44_ce10_11eb_a0f7_acde48001122row0_col8\" class=\"data row0 col8\" >-0.11</td>\n",
       "                        <td id=\"T_48746f44_ce10_11eb_a0f7_acde48001122row0_col9\" class=\"data row0 col9\" >-0.093</td>\n",
       "                        <td id=\"T_48746f44_ce10_11eb_a0f7_acde48001122row0_col10\" class=\"data row0 col10\" >-0.13</td>\n",
       "            </tr>\n",
       "            <tr>\n",
       "                        <th id=\"T_48746f44_ce10_11eb_a0f7_acde48001122level0_row1\" class=\"row_heading level0 row1\" >Balance in billions</th>\n",
       "                        <td id=\"T_48746f44_ce10_11eb_a0f7_acde48001122row1_col0\" class=\"data row1 col0\" >-0.076</td>\n",
       "                        <td id=\"T_48746f44_ce10_11eb_a0f7_acde48001122row1_col1\" class=\"data row1 col1\" >1.0</td>\n",
       "                        <td id=\"T_48746f44_ce10_11eb_a0f7_acde48001122row1_col2\" class=\"data row1 col2\" >1.0</td>\n",
       "                        <td id=\"T_48746f44_ce10_11eb_a0f7_acde48001122row1_col3\" class=\"data row1 col3\" >0.98</td>\n",
       "                        <td id=\"T_48746f44_ce10_11eb_a0f7_acde48001122row1_col4\" class=\"data row1 col4\" >0.96</td>\n",
       "                        <td id=\"T_48746f44_ce10_11eb_a0f7_acde48001122row1_col5\" class=\"data row1 col5\" >1.0</td>\n",
       "                        <td id=\"T_48746f44_ce10_11eb_a0f7_acde48001122row1_col6\" class=\"data row1 col6\" >0.99</td>\n",
       "                        <td id=\"T_48746f44_ce10_11eb_a0f7_acde48001122row1_col7\" class=\"data row1 col7\" >1.0</td>\n",
       "                        <td id=\"T_48746f44_ce10_11eb_a0f7_acde48001122row1_col8\" class=\"data row1 col8\" >0.99</td>\n",
       "                        <td id=\"T_48746f44_ce10_11eb_a0f7_acde48001122row1_col9\" class=\"data row1 col9\" >0.85</td>\n",
       "                        <td id=\"T_48746f44_ce10_11eb_a0f7_acde48001122row1_col10\" class=\"data row1 col10\" >0.052</td>\n",
       "            </tr>\n",
       "            <tr>\n",
       "                        <th id=\"T_48746f44_ce10_11eb_a0f7_acde48001122level0_row2\" class=\"row_heading level0 row2\" >Borrowers in thousands</th>\n",
       "                        <td id=\"T_48746f44_ce10_11eb_a0f7_acde48001122row2_col0\" class=\"data row2 col0\" >-0.053</td>\n",
       "                        <td id=\"T_48746f44_ce10_11eb_a0f7_acde48001122row2_col1\" class=\"data row2 col1\" >1.0</td>\n",
       "                        <td id=\"T_48746f44_ce10_11eb_a0f7_acde48001122row2_col2\" class=\"data row2 col2\" >1.0</td>\n",
       "                        <td id=\"T_48746f44_ce10_11eb_a0f7_acde48001122row2_col3\" class=\"data row2 col3\" >0.99</td>\n",
       "                        <td id=\"T_48746f44_ce10_11eb_a0f7_acde48001122row2_col4\" class=\"data row2 col4\" >0.96</td>\n",
       "                        <td id=\"T_48746f44_ce10_11eb_a0f7_acde48001122row2_col5\" class=\"data row2 col5\" >0.99</td>\n",
       "                        <td id=\"T_48746f44_ce10_11eb_a0f7_acde48001122row2_col6\" class=\"data row2 col6\" >0.99</td>\n",
       "                        <td id=\"T_48746f44_ce10_11eb_a0f7_acde48001122row2_col7\" class=\"data row2 col7\" >0.99</td>\n",
       "                        <td id=\"T_48746f44_ce10_11eb_a0f7_acde48001122row2_col8\" class=\"data row2 col8\" >0.98</td>\n",
       "                        <td id=\"T_48746f44_ce10_11eb_a0f7_acde48001122row2_col9\" class=\"data row2 col9\" >0.85</td>\n",
       "                        <td id=\"T_48746f44_ce10_11eb_a0f7_acde48001122row2_col10\" class=\"data row2 col10\" >0.042</td>\n",
       "            </tr>\n",
       "            <tr>\n",
       "                        <th id=\"T_48746f44_ce10_11eb_a0f7_acde48001122level0_row3\" class=\"row_heading level0 row3\" >State population</th>\n",
       "                        <td id=\"T_48746f44_ce10_11eb_a0f7_acde48001122row3_col0\" class=\"data row3 col0\" >-0.07</td>\n",
       "                        <td id=\"T_48746f44_ce10_11eb_a0f7_acde48001122row3_col1\" class=\"data row3 col1\" >0.98</td>\n",
       "                        <td id=\"T_48746f44_ce10_11eb_a0f7_acde48001122row3_col2\" class=\"data row3 col2\" >0.99</td>\n",
       "                        <td id=\"T_48746f44_ce10_11eb_a0f7_acde48001122row3_col3\" class=\"data row3 col3\" >1.0</td>\n",
       "                        <td id=\"T_48746f44_ce10_11eb_a0f7_acde48001122row3_col4\" class=\"data row3 col4\" >0.92</td>\n",
       "                        <td id=\"T_48746f44_ce10_11eb_a0f7_acde48001122row3_col5\" class=\"data row3 col5\" >0.98</td>\n",
       "                        <td id=\"T_48746f44_ce10_11eb_a0f7_acde48001122row3_col6\" class=\"data row3 col6\" >0.97</td>\n",
       "                        <td id=\"T_48746f44_ce10_11eb_a0f7_acde48001122row3_col7\" class=\"data row3 col7\" >0.97</td>\n",
       "                        <td id=\"T_48746f44_ce10_11eb_a0f7_acde48001122row3_col8\" class=\"data row3 col8\" >0.98</td>\n",
       "                        <td id=\"T_48746f44_ce10_11eb_a0f7_acde48001122row3_col9\" class=\"data row3 col9\" >0.79</td>\n",
       "                        <td id=\"T_48746f44_ce10_11eb_a0f7_acde48001122row3_col10\" class=\"data row3 col10\" >-0.062</td>\n",
       "            </tr>\n",
       "            <tr>\n",
       "                        <th id=\"T_48746f44_ce10_11eb_a0f7_acde48001122level0_row4\" class=\"row_heading level0 row4\" >Twentyfour.and.younger</th>\n",
       "                        <td id=\"T_48746f44_ce10_11eb_a0f7_acde48001122row4_col0\" class=\"data row4 col0\" >-0.0017</td>\n",
       "                        <td id=\"T_48746f44_ce10_11eb_a0f7_acde48001122row4_col1\" class=\"data row4 col1\" >0.96</td>\n",
       "                        <td id=\"T_48746f44_ce10_11eb_a0f7_acde48001122row4_col2\" class=\"data row4 col2\" >0.96</td>\n",
       "                        <td id=\"T_48746f44_ce10_11eb_a0f7_acde48001122row4_col3\" class=\"data row4 col3\" >0.92</td>\n",
       "                        <td id=\"T_48746f44_ce10_11eb_a0f7_acde48001122row4_col4\" class=\"data row4 col4\" >1.0</td>\n",
       "                        <td id=\"T_48746f44_ce10_11eb_a0f7_acde48001122row4_col5\" class=\"data row4 col5\" >0.97</td>\n",
       "                        <td id=\"T_48746f44_ce10_11eb_a0f7_acde48001122row4_col6\" class=\"data row4 col6\" >0.92</td>\n",
       "                        <td id=\"T_48746f44_ce10_11eb_a0f7_acde48001122row4_col7\" class=\"data row4 col7\" >0.96</td>\n",
       "                        <td id=\"T_48746f44_ce10_11eb_a0f7_acde48001122row4_col8\" class=\"data row4 col8\" >0.94</td>\n",
       "                        <td id=\"T_48746f44_ce10_11eb_a0f7_acde48001122row4_col9\" class=\"data row4 col9\" >0.86</td>\n",
       "                        <td id=\"T_48746f44_ce10_11eb_a0f7_acde48001122row4_col10\" class=\"data row4 col10\" >0.13</td>\n",
       "            </tr>\n",
       "            <tr>\n",
       "                        <th id=\"T_48746f44_ce10_11eb_a0f7_acde48001122level0_row5\" class=\"row_heading level0 row5\" >25 to34</th>\n",
       "                        <td id=\"T_48746f44_ce10_11eb_a0f7_acde48001122row5_col0\" class=\"data row5 col0\" >-0.069</td>\n",
       "                        <td id=\"T_48746f44_ce10_11eb_a0f7_acde48001122row5_col1\" class=\"data row5 col1\" >1.0</td>\n",
       "                        <td id=\"T_48746f44_ce10_11eb_a0f7_acde48001122row5_col2\" class=\"data row5 col2\" >0.99</td>\n",
       "                        <td id=\"T_48746f44_ce10_11eb_a0f7_acde48001122row5_col3\" class=\"data row5 col3\" >0.98</td>\n",
       "                        <td id=\"T_48746f44_ce10_11eb_a0f7_acde48001122row5_col4\" class=\"data row5 col4\" >0.97</td>\n",
       "                        <td id=\"T_48746f44_ce10_11eb_a0f7_acde48001122row5_col5\" class=\"data row5 col5\" >1.0</td>\n",
       "                        <td id=\"T_48746f44_ce10_11eb_a0f7_acde48001122row5_col6\" class=\"data row5 col6\" >0.98</td>\n",
       "                        <td id=\"T_48746f44_ce10_11eb_a0f7_acde48001122row5_col7\" class=\"data row5 col7\" >0.99</td>\n",
       "                        <td id=\"T_48746f44_ce10_11eb_a0f7_acde48001122row5_col8\" class=\"data row5 col8\" >0.99</td>\n",
       "                        <td id=\"T_48746f44_ce10_11eb_a0f7_acde48001122row5_col9\" class=\"data row5 col9\" >0.85</td>\n",
       "                        <td id=\"T_48746f44_ce10_11eb_a0f7_acde48001122row5_col10\" class=\"data row5 col10\" >0.045</td>\n",
       "            </tr>\n",
       "            <tr>\n",
       "                        <th id=\"T_48746f44_ce10_11eb_a0f7_acde48001122level0_row6\" class=\"row_heading level0 row6\" >35 to 49</th>\n",
       "                        <td id=\"T_48746f44_ce10_11eb_a0f7_acde48001122row6_col0\" class=\"data row6 col0\" >-0.086</td>\n",
       "                        <td id=\"T_48746f44_ce10_11eb_a0f7_acde48001122row6_col1\" class=\"data row6 col1\" >0.99</td>\n",
       "                        <td id=\"T_48746f44_ce10_11eb_a0f7_acde48001122row6_col2\" class=\"data row6 col2\" >0.99</td>\n",
       "                        <td id=\"T_48746f44_ce10_11eb_a0f7_acde48001122row6_col3\" class=\"data row6 col3\" >0.97</td>\n",
       "                        <td id=\"T_48746f44_ce10_11eb_a0f7_acde48001122row6_col4\" class=\"data row6 col4\" >0.92</td>\n",
       "                        <td id=\"T_48746f44_ce10_11eb_a0f7_acde48001122row6_col5\" class=\"data row6 col5\" >0.98</td>\n",
       "                        <td id=\"T_48746f44_ce10_11eb_a0f7_acde48001122row6_col6\" class=\"data row6 col6\" >1.0</td>\n",
       "                        <td id=\"T_48746f44_ce10_11eb_a0f7_acde48001122row6_col7\" class=\"data row6 col7\" >0.99</td>\n",
       "                        <td id=\"T_48746f44_ce10_11eb_a0f7_acde48001122row6_col8\" class=\"data row6 col8\" >0.97</td>\n",
       "                        <td id=\"T_48746f44_ce10_11eb_a0f7_acde48001122row6_col9\" class=\"data row6 col9\" >0.85</td>\n",
       "                        <td id=\"T_48746f44_ce10_11eb_a0f7_acde48001122row6_col10\" class=\"data row6 col10\" >0.044</td>\n",
       "            </tr>\n",
       "            <tr>\n",
       "                        <th id=\"T_48746f44_ce10_11eb_a0f7_acde48001122level0_row7\" class=\"row_heading level0 row7\" >50 to 61</th>\n",
       "                        <td id=\"T_48746f44_ce10_11eb_a0f7_acde48001122row7_col0\" class=\"data row7 col0\" >-0.086</td>\n",
       "                        <td id=\"T_48746f44_ce10_11eb_a0f7_acde48001122row7_col1\" class=\"data row7 col1\" >1.0</td>\n",
       "                        <td id=\"T_48746f44_ce10_11eb_a0f7_acde48001122row7_col2\" class=\"data row7 col2\" >0.99</td>\n",
       "                        <td id=\"T_48746f44_ce10_11eb_a0f7_acde48001122row7_col3\" class=\"data row7 col3\" >0.97</td>\n",
       "                        <td id=\"T_48746f44_ce10_11eb_a0f7_acde48001122row7_col4\" class=\"data row7 col4\" >0.96</td>\n",
       "                        <td id=\"T_48746f44_ce10_11eb_a0f7_acde48001122row7_col5\" class=\"data row7 col5\" >0.99</td>\n",
       "                        <td id=\"T_48746f44_ce10_11eb_a0f7_acde48001122row7_col6\" class=\"data row7 col6\" >0.99</td>\n",
       "                        <td id=\"T_48746f44_ce10_11eb_a0f7_acde48001122row7_col7\" class=\"data row7 col7\" >1.0</td>\n",
       "                        <td id=\"T_48746f44_ce10_11eb_a0f7_acde48001122row7_col8\" class=\"data row7 col8\" >0.99</td>\n",
       "                        <td id=\"T_48746f44_ce10_11eb_a0f7_acde48001122row7_col9\" class=\"data row7 col9\" >0.85</td>\n",
       "                        <td id=\"T_48746f44_ce10_11eb_a0f7_acde48001122row7_col10\" class=\"data row7 col10\" >0.059</td>\n",
       "            </tr>\n",
       "            <tr>\n",
       "                        <th id=\"T_48746f44_ce10_11eb_a0f7_acde48001122level0_row8\" class=\"row_heading level0 row8\" >62 and older</th>\n",
       "                        <td id=\"T_48746f44_ce10_11eb_a0f7_acde48001122row8_col0\" class=\"data row8 col0\" >-0.11</td>\n",
       "                        <td id=\"T_48746f44_ce10_11eb_a0f7_acde48001122row8_col1\" class=\"data row8 col1\" >0.99</td>\n",
       "                        <td id=\"T_48746f44_ce10_11eb_a0f7_acde48001122row8_col2\" class=\"data row8 col2\" >0.98</td>\n",
       "                        <td id=\"T_48746f44_ce10_11eb_a0f7_acde48001122row8_col3\" class=\"data row8 col3\" >0.98</td>\n",
       "                        <td id=\"T_48746f44_ce10_11eb_a0f7_acde48001122row8_col4\" class=\"data row8 col4\" >0.94</td>\n",
       "                        <td id=\"T_48746f44_ce10_11eb_a0f7_acde48001122row8_col5\" class=\"data row8 col5\" >0.99</td>\n",
       "                        <td id=\"T_48746f44_ce10_11eb_a0f7_acde48001122row8_col6\" class=\"data row8 col6\" >0.97</td>\n",
       "                        <td id=\"T_48746f44_ce10_11eb_a0f7_acde48001122row8_col7\" class=\"data row8 col7\" >0.99</td>\n",
       "                        <td id=\"T_48746f44_ce10_11eb_a0f7_acde48001122row8_col8\" class=\"data row8 col8\" >1.0</td>\n",
       "                        <td id=\"T_48746f44_ce10_11eb_a0f7_acde48001122row8_col9\" class=\"data row8 col9\" >0.82</td>\n",
       "                        <td id=\"T_48746f44_ce10_11eb_a0f7_acde48001122row8_col10\" class=\"data row8 col10\" >0.01</td>\n",
       "            </tr>\n",
       "            <tr>\n",
       "                        <th id=\"T_48746f44_ce10_11eb_a0f7_acde48001122level0_row9\" class=\"row_heading level0 row9\" >Balance.in.billionslog</th>\n",
       "                        <td id=\"T_48746f44_ce10_11eb_a0f7_acde48001122row9_col0\" class=\"data row9 col0\" >-0.093</td>\n",
       "                        <td id=\"T_48746f44_ce10_11eb_a0f7_acde48001122row9_col1\" class=\"data row9 col1\" >0.85</td>\n",
       "                        <td id=\"T_48746f44_ce10_11eb_a0f7_acde48001122row9_col2\" class=\"data row9 col2\" >0.85</td>\n",
       "                        <td id=\"T_48746f44_ce10_11eb_a0f7_acde48001122row9_col3\" class=\"data row9 col3\" >0.79</td>\n",
       "                        <td id=\"T_48746f44_ce10_11eb_a0f7_acde48001122row9_col4\" class=\"data row9 col4\" >0.86</td>\n",
       "                        <td id=\"T_48746f44_ce10_11eb_a0f7_acde48001122row9_col5\" class=\"data row9 col5\" >0.85</td>\n",
       "                        <td id=\"T_48746f44_ce10_11eb_a0f7_acde48001122row9_col6\" class=\"data row9 col6\" >0.85</td>\n",
       "                        <td id=\"T_48746f44_ce10_11eb_a0f7_acde48001122row9_col7\" class=\"data row9 col7\" >0.85</td>\n",
       "                        <td id=\"T_48746f44_ce10_11eb_a0f7_acde48001122row9_col8\" class=\"data row9 col8\" >0.82</td>\n",
       "                        <td id=\"T_48746f44_ce10_11eb_a0f7_acde48001122row9_col9\" class=\"data row9 col9\" >1.0</td>\n",
       "                        <td id=\"T_48746f44_ce10_11eb_a0f7_acde48001122row9_col10\" class=\"data row9 col10\" >0.3</td>\n",
       "            </tr>\n",
       "            <tr>\n",
       "                        <th id=\"T_48746f44_ce10_11eb_a0f7_acde48001122level0_row10\" class=\"row_heading level0 row10\" >Percentage.of.Borrowers</th>\n",
       "                        <td id=\"T_48746f44_ce10_11eb_a0f7_acde48001122row10_col0\" class=\"data row10 col0\" >-0.13</td>\n",
       "                        <td id=\"T_48746f44_ce10_11eb_a0f7_acde48001122row10_col1\" class=\"data row10 col1\" >0.052</td>\n",
       "                        <td id=\"T_48746f44_ce10_11eb_a0f7_acde48001122row10_col2\" class=\"data row10 col2\" >0.042</td>\n",
       "                        <td id=\"T_48746f44_ce10_11eb_a0f7_acde48001122row10_col3\" class=\"data row10 col3\" >-0.062</td>\n",
       "                        <td id=\"T_48746f44_ce10_11eb_a0f7_acde48001122row10_col4\" class=\"data row10 col4\" >0.13</td>\n",
       "                        <td id=\"T_48746f44_ce10_11eb_a0f7_acde48001122row10_col5\" class=\"data row10 col5\" >0.045</td>\n",
       "                        <td id=\"T_48746f44_ce10_11eb_a0f7_acde48001122row10_col6\" class=\"data row10 col6\" >0.044</td>\n",
       "                        <td id=\"T_48746f44_ce10_11eb_a0f7_acde48001122row10_col7\" class=\"data row10 col7\" >0.059</td>\n",
       "                        <td id=\"T_48746f44_ce10_11eb_a0f7_acde48001122row10_col8\" class=\"data row10 col8\" >0.01</td>\n",
       "                        <td id=\"T_48746f44_ce10_11eb_a0f7_acde48001122row10_col9\" class=\"data row10 col9\" >0.3</td>\n",
       "                        <td id=\"T_48746f44_ce10_11eb_a0f7_acde48001122row10_col10\" class=\"data row10 col10\" >1.0</td>\n",
       "            </tr>\n",
       "    </tbody></table>"
      ],
      "text/plain": [
       "<pandas.io.formats.style.Styler at 0x7f970c761430>"
      ]
     },
     "execution_count": 29,
     "metadata": {},
     "output_type": "execute_result"
    }
   ],
   "source": [
    "data2.corr(method='pearson').style.format(\"{:.2}\").background_gradient(cmap=plt.get_cmap('coolwarm'), axis=1)"
   ]
  },
  {
   "cell_type": "code",
   "execution_count": 15,
   "metadata": {},
   "outputs": [
    {
     "data": {
      "image/png": "[encoded data removed]",
      "text/plain": [
       "<Figure size 360x360 with 1 Axes>"
      ]
     },
     "metadata": {
      "needs_background": "light"
     },
     "output_type": "display_data"
    }
   ],
   "source": [
    "regionplot = sns.relplot(\n",
    "    data=data2,\n",
    "    x=\"Percentage.of.Borrowers\", y=\"Balance in billions\",\n",
    "    palette='coolwarm'\n",
    ")"
   ]
  },
  {
   "cell_type": "markdown",
   "metadata": {},
   "source": [
    "### linear regression"
   ]
  },
  {
   "cell_type": "code",
   "execution_count": 117,
   "metadata": {},
   "outputs": [],
   "source": [
    "x = fafsa_by_locat_by_age['Federal Fiscal Year2']\n",
    "y = summarydata['Dollars outstanding(in billions)']"
   ]
  },
  {
   "cell_type": "code",
   "execution_count": 120,
   "metadata": {},
   "outputs": [
    {
     "data": {
      "text/plain": [
       "<bound method RegressionResults.summary of <statsmodels.regression.linear_model.OLSResults object at 0x7f970d2453d0>>"
      ]
     },
     "execution_count": 120,
     "metadata": {},
     "output_type": "execute_result"
    }
   ],
   "source": [
    "model = sm.OLS(y,x).fit()"
   ]
  },
  {
   "cell_type": "code",
   "execution_count": 121,
   "metadata": {},
   "outputs": [],
   "source": [
    "pred_val = model.fittedvalues.copy()\n",
    "true_val = summarydata['Dollars outstanding(in billions)'].values.copy()\n",
    "residual = true_val - pred_val"
   ]
  },
  {
   "cell_type": "code",
   "execution_count": 122,
   "metadata": {},
   "outputs": [
    {
     "data": {
      "image/png": "[encoded data removed]",
      "text/plain": [
       "<Figure size 432x180 with 1 Axes>"
      ]
     },
     "metadata": {
      "needs_background": "light"
     },
     "output_type": "display_data"
    }
   ],
   "source": [
    "fig, ax = plt.subplots(figsize=(6, 2.5))\n",
    "_ = ax.scatter(residual, pred_val)"
   ]
  },
  {
   "cell_type": "code",
   "execution_count": 123,
   "metadata": {},
   "outputs": [
    {
     "data": {
      "text/plain": [
       "(8.246881632478127, nan, 18.635017458956888, 0.0008367810807284629)"
      ]
     },
     "execution_count": 123,
     "metadata": {},
     "output_type": "execute_result"
    }
   ],
   "source": [
    "sms.diagnostic.het_breuschpagan(residual, summarydata[['Federal Fiscal Year2']])"
   ]
  },
  {
   "cell_type": "code",
   "execution_count": 124,
   "metadata": {},
   "outputs": [
    {
     "data": {
      "text/plain": [
       "Ttest_1sampResult(statistic=9.517581452786882, pvalue=2.4961197619149317e-06)"
      ]
     },
     "execution_count": 124,
     "metadata": {},
     "output_type": "execute_result"
    }
   ],
   "source": [
    "sms.linear_harvey_collier(model)"
   ]
  },
  {
   "cell_type": "code",
   "execution_count": 126,
   "metadata": {},
   "outputs": [],
   "source": [
    "transformed, _ = boxcox(summarydata['Federal Fiscal Year2'])"
   ]
  },
  {
   "cell_type": "code",
   "execution_count": 127,
   "metadata": {},
   "outputs": [
    {
     "data": {
      "text/plain": [
       "(array([2., 1., 1., 2., 1., 1., 2., 1., 1., 2.]),\n",
       " array([386.30737757, 386.49430634, 386.68123511, 386.86816389,\n",
       "        387.05509266, 387.24202143, 387.4289502 , 387.61587897,\n",
       "        387.80280774, 387.98973652, 388.17666529]),\n",
       " <a list of 10 Patch objects>)"
      ]
     },
     "execution_count": 127,
     "metadata": {},
     "output_type": "execute_result"
    },
    {
     "data": {
      "image/png": "[encoded data removed]",
      "text/plain": [
       "<Figure size 432x288 with 1 Axes>"
      ]
     },
     "metadata": {
      "needs_background": "light"
     },
     "output_type": "display_data"
    }
   ],
   "source": [
    "plt.hist(transformed)"
   ]
  },
  {
   "cell_type": "code",
   "execution_count": 129,
   "metadata": {},
   "outputs": [
    {
     "data": {
      "text/html": [
       "<table class=\"simpletable\">\n",
       "<caption>OLS Regression Results</caption>\n",
       "<tr>\n",
       "  <th>Dep. Variable:</th>    <td>Dollars outstanding(in billions)</td> <th>  R-squared (uncentered):</th>      <td>   0.908</td>\n",
       "</tr>\n",
       "<tr>\n",
       "  <th>Model:</th>                           <td>OLS</td>               <th>  Adj. R-squared (uncentered):</th> <td>   0.901</td>\n",
       "</tr>\n",
       "<tr>\n",
       "  <th>Method:</th>                     <td>Least Squares</td>          <th>  F-statistic:       </th>          <td>   127.8</td>\n",
       "</tr>\n",
       "<tr>\n",
       "  <th>Date:</th>                     <td>Tue, 15 Jun 2021</td>         <th>  Prob (F-statistic):</th>          <td>4.25e-08</td>\n",
       "</tr>\n",
       "<tr>\n",
       "  <th>Time:</th>                         <td>16:39:10</td>             <th>  Log-Likelihood:    </th>          <td> -101.41</td>\n",
       "</tr>\n",
       "<tr>\n",
       "  <th>No. Observations:</th>              <td>    14</td>              <th>  AIC:               </th>          <td>   204.8</td>\n",
       "</tr>\n",
       "<tr>\n",
       "  <th>Df Residuals:</th>                  <td>    13</td>              <th>  BIC:               </th>          <td>   205.5</td>\n",
       "</tr>\n",
       "<tr>\n",
       "  <th>Df Model:</th>                      <td>     1</td>              <th>                     </th>              <td> </td>   \n",
       "</tr>\n",
       "<tr>\n",
       "  <th>Covariance Type:</th>              <td>nonrobust</td>            <th>                     </th>              <td> </td>   \n",
       "</tr>\n",
       "</table>\n",
       "<table class=\"simpletable\">\n",
       "<tr>\n",
       "            <td></td>              <th>coef</th>     <th>std err</th>      <th>t</th>      <th>P>|t|</th>  <th>[0.025</th>    <th>0.975]</th>  \n",
       "</tr>\n",
       "<tr>\n",
       "  <th>Federal Fiscal Year2</th> <td>    0.5273</td> <td>    0.047</td> <td>   11.307</td> <td> 0.000</td> <td>    0.427</td> <td>    0.628</td>\n",
       "</tr>\n",
       "</table>\n",
       "<table class=\"simpletable\">\n",
       "<tr>\n",
       "  <th>Omnibus:</th>       <td> 2.419</td> <th>  Durbin-Watson:     </th> <td>   0.054</td>\n",
       "</tr>\n",
       "<tr>\n",
       "  <th>Prob(Omnibus):</th> <td> 0.298</td> <th>  Jarque-Bera (JB):  </th> <td>   1.023</td>\n",
       "</tr>\n",
       "<tr>\n",
       "  <th>Skew:</th>          <td>-0.116</td> <th>  Prob(JB):          </th> <td>   0.600</td>\n",
       "</tr>\n",
       "<tr>\n",
       "  <th>Kurtosis:</th>      <td> 1.696</td> <th>  Cond. No.          </th> <td>    1.00</td>\n",
       "</tr>\n",
       "</table><br/><br/>Warnings:<br/>[1] Standard Errors assume that the covariance matrix of the errors is correctly specified."
      ],
      "text/plain": [
       "<class 'statsmodels.iolib.summary.Summary'>\n",
       "\"\"\"\n",
       "                                        OLS Regression Results                                       \n",
       "=====================================================================================================\n",
       "Dep. Variable:     Dollars outstanding(in billions)   R-squared (uncentered):                   0.908\n",
       "Model:                                          OLS   Adj. R-squared (uncentered):              0.901\n",
       "Method:                               Least Squares   F-statistic:                              127.8\n",
       "Date:                              Tue, 15 Jun 2021   Prob (F-statistic):                    4.25e-08\n",
       "Time:                                      16:39:10   Log-Likelihood:                         -101.41\n",
       "No. Observations:                                14   AIC:                                      204.8\n",
       "Df Residuals:                                    13   BIC:                                      205.5\n",
       "Df Model:                                         1                                                  \n",
       "Covariance Type:                          nonrobust                                                  \n",
       "========================================================================================\n",
       "                           coef    std err          t      P>|t|      [0.025      0.975]\n",
       "----------------------------------------------------------------------------------------\n",
       "Federal Fiscal Year2     0.5273      0.047     11.307      0.000       0.427       0.628\n",
       "==============================================================================\n",
       "Omnibus:                        2.419   Durbin-Watson:                   0.054\n",
       "Prob(Omnibus):                  0.298   Jarque-Bera (JB):                1.023\n",
       "Skew:                          -0.116   Prob(JB):                        0.600\n",
       "Kurtosis:                       1.696   Cond. No.                         1.00\n",
       "==============================================================================\n",
       "\n",
       "Warnings:\n",
       "[1] Standard Errors assume that the covariance matrix of the errors is correctly specified.\n",
       "\"\"\""
      ]
     },
     "execution_count": 129,
     "metadata": {},
     "output_type": "execute_result"
    }
   ],
   "source": [
    "model.summary()"
   ]
  },
  {
   "cell_type": "code",
   "execution_count": 134,
   "metadata": {},
   "outputs": [],
   "source": [
    "x = summarydata[['Federal Fiscal Year2', 'Unduplicated Recipients    (in millions)']]\n",
    "y = summarydata['Dollars outstanding(in billions)']"
   ]
  },
  {
   "cell_type": "code",
   "execution_count": 137,
   "metadata": {},
   "outputs": [],
   "source": [
    "x_train, x_test, y_train, y_test = train_test_split(x,y, test_size = .4, random_state=101)"
   ]
  },
  {
   "cell_type": "code",
   "execution_count": 138,
   "metadata": {},
   "outputs": [
    {
     "name": "stdout",
     "output_type": "stream",
     "text": [
      "(8, 2) (8,)\n",
      "(6, 2) (6,)\n"
     ]
    }
   ],
   "source": [
    "print(x_train.shape, y_train.shape)\n",
    "print(x_test.shape, y_test.shape)"
   ]
  },
  {
   "cell_type": "code",
   "execution_count": 140,
   "metadata": {},
   "outputs": [],
   "source": [
    "lm = LinearRegression()"
   ]
  },
  {
   "cell_type": "code",
   "execution_count": 141,
   "metadata": {},
   "outputs": [
    {
     "data": {
      "text/plain": [
       "LinearRegression()"
      ]
     },
     "execution_count": 141,
     "metadata": {},
     "output_type": "execute_result"
    }
   ],
   "source": [
    "lm.fit(x_train, y_train)"
   ]
  },
  {
   "cell_type": "code",
   "execution_count": 142,
   "metadata": {},
   "outputs": [
    {
     "data": {
      "text/plain": [
       "array([1521.80953503,  680.39595396,  772.3232343 , 1598.44303956,\n",
       "       1366.45701109,  953.39710846])"
      ]
     },
     "execution_count": 142,
     "metadata": {},
     "output_type": "execute_result"
    }
   ],
   "source": [
    "predictions = lm.predict(x_test)\n",
    "predictions"
   ]
  },
  {
   "cell_type": "code",
   "execution_count": 143,
   "metadata": {},
   "outputs": [
    {
     "name": "stdout",
     "output_type": "stream",
     "text": [
      "Score: 0.997163595933311\n"
     ]
    }
   ],
   "source": [
    "print(\"Score:\", lm.score(x_test, y_test))"
   ]
  },
  {
   "cell_type": "code",
   "execution_count": 144,
   "metadata": {},
   "outputs": [
    {
     "data": {
      "text/plain": [
       "374.58621822972896"
      ]
     },
     "execution_count": 144,
     "metadata": {},
     "output_type": "execute_result"
    }
   ],
   "source": [
    "metrics.mean_squared_error(y_test, predictions)"
   ]
  },
  {
   "cell_type": "code",
   "execution_count": 145,
   "metadata": {},
   "outputs": [
    {
     "data": {
      "text/plain": [
       "19.354229982867544"
      ]
     },
     "execution_count": 145,
     "metadata": {},
     "output_type": "execute_result"
    }
   ],
   "source": [
    "np.sqrt(metrics.mean_squared_error(y_test, predictions))"
   ]
  },
  {
   "cell_type": "code",
   "execution_count": null,
   "metadata": {},
   "outputs": [],
   "source": []
  }
 ],
 "metadata": {
  "kernelspec": {
   "display_name": "Python 3",
   "language": "python",
   "name": "python3"
  },
  "language_info": {
   "codemirror_mode": {
    "name": "ipython",
    "version": 3
   },
   "file_extension": ".py",
   "mimetype": "text/x-python",
   "name": "python",
   "nbconvert_exporter": "python",
   "pygments_lexer": "ipython3",
   "version": "3.8.3"
  }
 },
 "nbformat": 4,
 "nbformat_minor": 4
}
